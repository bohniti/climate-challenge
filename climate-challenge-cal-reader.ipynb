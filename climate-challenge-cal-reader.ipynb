{
 "cells": [
  {
   "cell_type": "code",
   "execution_count": 137,
   "metadata": {},
   "outputs": [],
   "source": [
    "import pandas as pd\n",
    "import numpy as np\n",
    "from datetime import datetime, timedelta"
   ]
  },
  {
   "cell_type": "code",
   "execution_count": 139,
   "metadata": {},
   "outputs": [
    {
     "name": "stdout",
     "output_type": "stream",
     "text": [
      "            home_office\n",
      "Date_Time              \n",
      "2020-10-31            0\n",
      "2020-11-01            1\n",
      "2020-11-02            1\n",
      "2020-11-03            1\n",
      "2020-11-04            0\n",
      "2020-11-05            0\n",
      "2020-11-06            0\n",
      "2020-11-07            0\n"
     ]
    }
   ],
   "source": [
    "# create syntetic input\n",
    "\n",
    "date_today = datetime.now()\n",
    "days = pd.date_range(date_today, date_today + timedelta(7), freq='D')\n",
    "\n",
    "np.random.seed(seed=1111)\n",
    "data = np.random.randint(2, size=len(days))\n",
    "event_df = pd.DataFrame({'Date_Time': days.date, 'home_office': data})\n",
    "event_df = event_df.set_index('Date_Time')\n",
    "print(event_df)"
   ]
  },
  {
   "cell_type": "code",
   "execution_count": 140,
   "metadata": {},
   "outputs": [],
   "source": [
    "from __future__ import print_function\n",
    "import datetime\n",
    "import pickle\n",
    "import os.path\n",
    "from googleapiclient.discovery import build\n",
    "from google_auth_oauthlib.flow import InstalledAppFlow\n",
    "from google.auth.transport.requests import Request"
   ]
  },
  {
   "cell_type": "code",
   "execution_count": 141,
   "metadata": {},
   "outputs": [
    {
     "name": "stdout",
     "output_type": "stream",
     "text": [
      "Please visit this URL to authorize this application: https://accounts.google.com/o/oauth2/auth?response_type=code&client_id=890217282282-e45caq8n1svbnfkqbibcirc1rqvcmeaf.apps.googleusercontent.com&redirect_uri=http%3A%2F%2Flocalhost%3A54753%2F&scope=https%3A%2F%2Fwww.googleapis.com%2Fauth%2Fcalendar&state=StotVn4JdmboZFrDJVEQn5h4sMF2Rg&access_type=offline\n",
      "Getting the upcoming 10 events\n",
      "2020-10-31T17:00:00+01:00 Office\n",
      "2020-10-31T17:00:00+01:00 Office\n",
      "2020-11-01T17:00:00+01:00 Home Office\n",
      "2020-11-01T17:00:00+01:00 Home Office\n",
      "2020-11-01T17:00:00+01:00 1\n",
      "2020-11-01T17:00:00+01:00 dfs\n",
      "2020-11-01T17:00:00+01:00 Home Office\n",
      "2020-11-01T18:00:00+01:00 Office\n",
      "2020-11-01T18:00:00+01:00 Office\n",
      "2020-11-02T17:00:00+01:00 dfs\n",
      "Event created: https://www.google.com/calendar/event?eid=aW9tbW51OTlzbmtzNjE4YmUxODdrN2s0ZmdfMjAxNTA1MjhUMTYwMDAwWiBhNWdocHBnbzY5OW9vZjdxZDg1Yzk5ZmJ1NEBn\n"
     ]
    }
   ],
   "source": [
    "# If modifying these scopes, delete the file token.pickle.\n",
    "SCOPES = ['https://www.googleapis.com/auth/calendar']\n",
    "\n",
    "\n",
    "def main():\n",
    "    \"\"\"Shows basic usage of the Google Calendar API.\n",
    "    Prints the start and name of the next 10 events on the user's calendar.\n",
    "    \"\"\"\n",
    "    creds = None\n",
    "    # The file token.pickle stores the user's access and refresh tokens, and is\n",
    "    # created automatically when the authorization flow completes for the first\n",
    "    # time.\n",
    "    if os.path.exists('token.pickle'):\n",
    "        with open('token.pickle', 'rb') as token:\n",
    "            creds = pickle.load(token)\n",
    "    # If there are no (valid) credentials available, let the user log in.\n",
    "    if not creds or not creds.valid:\n",
    "        if creds and creds.expired and creds.refresh_token:\n",
    "            creds.refresh(Request())\n",
    "        else:\n",
    "            flow = InstalledAppFlow.from_client_secrets_file(\n",
    "                'credentials.json', SCOPES)\n",
    "            creds = flow.run_local_server(port=0)\n",
    "        # Save the credentials for the next run\n",
    "        with open('token.pickle', 'wb') as token:\n",
    "            pickle.dump(creds, token)\n",
    "\n",
    "    service = build('calendar', 'v3', credentials=creds)\n",
    "\n",
    "    # Call the Calendar API\n",
    "    now = datetime.datetime.utcnow().isoformat() + 'Z' # 'Z' indicates UTC time\n",
    "    print('Getting the upcoming 10 events')\n",
    "    events_result = service.events().list(calendarId='a5ghppgo699oof7qd85c99fbu4@group.calendar.google.com', timeMin=now,\n",
    "                                        maxResults=10, singleEvents=True,\n",
    "                                        orderBy='startTime').execute()\n",
    "    events = events_result.get('items', [])\n",
    "\n",
    "    if not events:\n",
    "        print('No upcoming events found.')\n",
    "    for event in events:\n",
    "        start = event['start'].get('dateTime', event['start'].get('date'))\n",
    "        print(start, event['summary'])\n",
    "    event = {\n",
    "  'summary': 'Google I/O 2015',\n",
    "  'location': '800 Howard St., San Francisco, CA 94103',\n",
    "  'description': 'A chance to hear more about Google\\'s developer products.',\n",
    "  'start': {\n",
    "    'dateTime': '2015-05-28T09:00:00-07:00',\n",
    "    'timeZone': 'America/Los_Angeles',\n",
    "  },\n",
    "  'end': {\n",
    "    'dateTime': '2015-05-28T17:00:00-07:00',\n",
    "    'timeZone': 'America/Los_Angeles',\n",
    "  },\n",
    "  'recurrence': [\n",
    "    'RRULE:FREQ=DAILY;COUNT=2'\n",
    "  ],\n",
    "  'attendees': [\n",
    "    {'email': 'lpage@example.com'},\n",
    "    {'email': 'sbrin@example.com'},\n",
    "  ],\n",
    "  'reminders': {\n",
    "    'useDefault': False,\n",
    "    'overrides': [\n",
    "      {'method': 'email', 'minutes': 24 * 60},\n",
    "      {'method': 'popup', 'minutes': 10},\n",
    "    ],\n",
    "  },\n",
    "}\n",
    "\n",
    "    event = service.events().insert(calendarId='a5ghppgo699oof7qd85c99fbu4@group.calendar.google.com', body=event).execute()\n",
    "    print('Event created: %s' % (event.get('htmlLink')))\n",
    "\n",
    "\n",
    "if __name__ == '__main__':\n",
    "    main()"
   ]
  },
  {
   "cell_type": "code",
   "execution_count": 150,
   "metadata": {},
   "outputs": [],
   "source": [
    "def cal_service_builder():\n",
    "    SCOPES = ['https://www.googleapis.com/auth/calendar']\n",
    "    creds = None\n",
    "    # The file token.pickle stores the user's access and refresh tokens, and is\n",
    "    # created automatically when the authorization flow completes for the first\n",
    "    # time.\n",
    "    if os.path.exists('token.pickle'):\n",
    "        with open('token.pickle', 'rb') as token:\n",
    "            creds = pickle.load(token)\n",
    "    # If there are no (valid) credentials available, let the user log in.\n",
    "    if not creds or not creds.valid:\n",
    "        if creds and creds.expired and creds.refresh_token:\n",
    "            creds.refresh(Request())\n",
    "        else:\n",
    "            flow = InstalledAppFlow.from_client_secrets_file(\n",
    "                'credentials.json', SCOPES)\n",
    "            creds = flow.run_local_server(port=0)\n",
    "        # Save the credentials for the next run\n",
    "        with open('token.pickle', 'wb') as token:\n",
    "            pickle.dump(creds, token)\n",
    "\n",
    "    service = build('calendar', 'v3', credentials=creds)\n",
    "    return service"
   ]
  },
  {
   "cell_type": "code",
   "execution_count": 151,
   "metadata": {},
   "outputs": [],
   "source": [
    "def cal_event_dispatcher(service, event):\n",
    "    event = service.events().insert(calendarId='a5ghppgo699oof7qd85c99fbu4@group.calendar.google.com', body=event).execute()\n",
    "    print('Event created: %s' % (event.get('htmlLink')))"
   ]
  },
  {
   "cell_type": "code",
   "execution_count": 153,
   "metadata": {},
   "outputs": [],
   "source": [
    "def cal_event_creator(event_df):\n",
    "    event_summary = ['Homeoffice','Office']\n",
    "    events = []\n",
    "\n",
    "    for (i, row) in event_df.iterrows():\n",
    "            event = {\n",
    "      'summary': event_summary[row['home_office']],\n",
    "      'location': '800 Howard St., San Francisco, CA 94103',\n",
    "      'description': 'We take the climate challenge',\n",
    "      'start': {\n",
    "        'dateTime': str(i) + 'T09:00:00-07:00',\n",
    "        'timeZone': 'America/Los_Angeles',\n",
    "      },\n",
    "      'end': {\n",
    "        'dateTime': str(i) + 'T09:00:00-07:00',\n",
    "        'timeZone': 'America/Los_Angeles',\n",
    "      },\n",
    "      'recurrence': [\n",
    "        'RRULE:FREQ=DAILY;COUNT=2'\n",
    "      ],\n",
    "    }\n",
    "            #print()\n",
    "            events.append(event)\n",
    "    return events"
   ]
  },
  {
   "cell_type": "code",
   "execution_count": 155,
   "metadata": {},
   "outputs": [],
   "source": [
    "service = cal_service_builder()\n",
    "events = cal_event_creator(event_df)"
   ]
  },
  {
   "cell_type": "code",
   "execution_count": 136,
   "metadata": {},
   "outputs": [
    {
     "name": "stdout",
     "output_type": "stream",
     "text": [
      "Event created: https://www.google.com/calendar/event?eid=MTR0ZWVrMXFjc2RhZWI2MGFna3NkNG9kM29fMjAyMDEwMzFUMTYwMDAwWiBhNWdocHBnbzY5OW9vZjdxZDg1Yzk5ZmJ1NEBn\n",
      "Event created: https://www.google.com/calendar/event?eid=c2kwdDF2ZnAxZDRuOXBjczI2MThqcnVzbTRfMjAyMDExMDFUMTYwMDAwWiBhNWdocHBnbzY5OW9vZjdxZDg1Yzk5ZmJ1NEBn\n",
      "Event created: https://www.google.com/calendar/event?eid=OXFsbm9ybzJuZHFvbnM1NWVyZWhpYWNvMWdfMjAyMDExMDJUMTYwMDAwWiBhNWdocHBnbzY5OW9vZjdxZDg1Yzk5ZmJ1NEBn\n",
      "Event created: https://www.google.com/calendar/event?eid=dG9pODl2anVjaGlzcTN1MXZuYjFsbTBhczBfMjAyMDExMDNUMTYwMDAwWiBhNWdocHBnbzY5OW9vZjdxZDg1Yzk5ZmJ1NEBn\n",
      "Event created: https://www.google.com/calendar/event?eid=ZzBrcWphbTE1MG1udmxnZmd0ZnNibW1wNDBfMjAyMDExMDRUMTYwMDAwWiBhNWdocHBnbzY5OW9vZjdxZDg1Yzk5ZmJ1NEBn\n",
      "Event created: https://www.google.com/calendar/event?eid=Mjd1MHA1dTNna3VoazhtamxlNWwyNXMycmdfMjAyMDExMDVUMTYwMDAwWiBhNWdocHBnbzY5OW9vZjdxZDg1Yzk5ZmJ1NEBn\n",
      "Event created: https://www.google.com/calendar/event?eid=dGt1NmM0bmdiczJucDkwbGtnMnV0c2Q3YWNfMjAyMDExMDZUMTYwMDAwWiBhNWdocHBnbzY5OW9vZjdxZDg1Yzk5ZmJ1NEBn\n",
      "Event created: https://www.google.com/calendar/event?eid=dmo3aDQ0c3U4amQycjJkNTlicTFtcWk2Y2dfMjAyMDExMDdUMTYwMDAwWiBhNWdocHBnbzY5OW9vZjdxZDg1Yzk5ZmJ1NEBn\n"
     ]
    }
   ],
   "source": [
    "for event in events:\n",
    "    cal_event_dispatcher(service, event)"
   ]
  },
  {
   "cell_type": "code",
   "execution_count": null,
   "metadata": {},
   "outputs": [],
   "source": []
  }
 ],
 "metadata": {
  "kernelspec": {
   "display_name": "Data Science Projects (Python 3.6)",
   "language": "python",
   "name": "ds"
  },
  "language_info": {
   "codemirror_mode": {
    "name": "ipython",
    "version": 3
   },
   "file_extension": ".py",
   "mimetype": "text/x-python",
   "name": "python",
   "nbconvert_exporter": "python",
   "pygments_lexer": "ipython3",
   "version": "3.6.11"
  }
 },
 "nbformat": 4,
 "nbformat_minor": 4
}
